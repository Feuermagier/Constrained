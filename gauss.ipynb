{
 "cells": [
  {
   "cell_type": "code",
   "execution_count": 1,
   "metadata": {},
   "outputs": [],
   "source": [
    "%load_ext autoreload\n",
    "%autoreload 2\n",
    "import constrained as cd\n",
    "from constrained.constraints import inset, aligned_vertically, distributed_vertically, aligned_horizontally, distributed_horizontally"
   ]
  },
  {
   "cell_type": "code",
   "execution_count": 2,
   "metadata": {},
   "outputs": [
    {
     "name": "stdout",
     "output_type": "stream",
     "text": [
      "Solved 20 constraints in 0.016s\n"
     ]
    },
    {
     "data": {
      "image/svg+xml": "<svg baseProfile=\"full\" height=\"100\" version=\"1.1\" width=\"100\" xmlns=\"http://www.w3.org/2000/svg\" xmlns:ev=\"http://www.w3.org/2001/xml-events\" xmlns:xlink=\"http://www.w3.org/1999/xlink\"><defs /><rect fill=\"lightgrey\" fill-opacity=\"1\" height=\"100\" stroke=\"black\" stroke-opacity=\"1\" width=\"100\" x=\"0.0\" y=\"0.0\" /><rect fill=\"#ffffff\" fill-opacity=\"0\" height=\"75\" stroke=\"red\" stroke-opacity=\"1\" width=\"75\" x=\"12.5\" y=\"12.5\" /><circle cx=\"50.0\" cy=\"50.0\" fill=\"#ffffff\" fill-opacity=\"0\" r=\"37.5\" stroke=\"blue\" stroke-opacity=\"1\" /><text dominant-baseline=\"hanging\" font-family=\"sans-serif\" font-size=\"14\" x=\"16.52099609375\" y=\"44.818359375\">Some Text</text></svg>",
      "text/plain": [
       "<constrained.svg.SVGRenderer at 0x264bd5ed280>"
      ]
     },
     "execution_count": 2,
     "metadata": {},
     "output_type": "execute_result"
    }
   ],
   "source": [
    "from constrained.constraints import aligned_vertically, aligned_horizontally\n",
    "from constrained.primitive import Rect, Circle, Group, Text\n",
    "from constrained.core import Canvas, Style\n",
    "from constrained import solve\n",
    "\n",
    "rect = Rect(width=75, height=75, style=Style(outline=\"red\"))\n",
    "circle = Circle(style=Style(outline=\"blue\"))\n",
    "text = Text(\"Some Text\")\n",
    "bg = Rect(top_left=(0, 0), width=100, height=100, style=Style(fill=\"lightgrey\"))\n",
    "group = Group([bg, rect, circle, text], [\n",
    "    aligned_vertically([rect, circle, text]),\n",
    "    aligned_horizontally([rect, circle, text]),\n",
    "    rect.bounds.width == 2 * circle.radius,\n",
    "    bg.bounds.center == rect.bounds.center,\n",
    "])\n",
    "canvas = Canvas(100, 100, group)\n",
    "solve(canvas)"
   ]
  },
  {
   "cell_type": "code",
   "execution_count": 6,
   "metadata": {},
   "outputs": [
    {
     "data": {
      "image/svg+xml": "<svg baseProfile=\"full\" height=\"100\" version=\"1.1\" width=\"100\" xmlns=\"http://www.w3.org/2000/svg\" xmlns:ev=\"http://www.w3.org/2001/xml-events\" xmlns:xlink=\"http://www.w3.org/1999/xlink\"><defs /><rect fill=\"lightgrey\" fill-opacity=\"1\" height=\"100\" stroke=\"black\" stroke-opacity=\"1\" width=\"100\" x=\"0\" y=\"0\" /><rect fill=\"#ffffff\" fill-opacity=\"0\" height=\"75\" stroke=\"red\" stroke-opacity=\"1\" width=\"75\" x=\"12.476894151289873\" y=\"12.454965196205919\" /><circle cx=\"49.950112126221214\" cy=\"49.90276528541184\" fill=\"#ffffff\" fill-opacity=\"0\" r=\"37.49999999999999\" stroke=\"blue\" stroke-opacity=\"1\" /><text dominant-baseline=\"hanging\" font-family=\"sans-serif\" font-size=\"14\" x=\"16.468697039666736\" y=\"44.716425112455916\">Some Text</text></svg>",
      "text/plain": [
       "<constrained.svg.SVGRenderer at 0x264bd5af3a0>"
      ]
     },
     "execution_count": 6,
     "metadata": {},
     "output_type": "execute_result"
    }
   ],
   "source": [
    "solve(canvas, solver=\"gd\")"
   ]
  }
 ],
 "metadata": {
  "kernelspec": {
   "display_name": "Python 3.9.12 ('constrained')",
   "language": "python",
   "name": "python3"
  },
  "language_info": {
   "codemirror_mode": {
    "name": "ipython",
    "version": 3
   },
   "file_extension": ".py",
   "mimetype": "text/x-python",
   "name": "python",
   "nbconvert_exporter": "python",
   "pygments_lexer": "ipython3",
   "version": "3.9.12"
  },
  "orig_nbformat": 4,
  "vscode": {
   "interpreter": {
    "hash": "b01646558572192be7d0815154e0b549689800212597c0d89e11e3b7e9c96e74"
   }
  }
 },
 "nbformat": 4,
 "nbformat_minor": 2
}
