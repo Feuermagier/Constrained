{
 "cells": [
  {
   "cell_type": "code",
   "execution_count": 1,
   "metadata": {},
   "outputs": [],
   "source": [
    "%load_ext autoreload\n",
    "%autoreload 2\n",
    "import constrained as cd\n",
    "from constrained.constraints import inset, aligned_vertically, distributed_vertically, aligned_horizontally, distributed_horizontally"
   ]
  },
  {
   "cell_type": "code",
   "execution_count": 2,
   "metadata": {},
   "outputs": [
    {
     "ename": "ImportError",
     "evalue": "cannot import name 'Variable' from 'constrained.ast' (g:\\CS\\Private_Projects\\constrained\\constrained\\ast.py)",
     "output_type": "error",
     "traceback": [
      "\u001b[1;31m---------------------------------------------------------------------------\u001b[0m",
      "\u001b[1;31mImportError\u001b[0m                               Traceback (most recent call last)",
      "\u001b[1;32mg:\\CS\\Private_Projects\\constrained\\gauss.ipynb Cell 2'\u001b[0m in \u001b[0;36m<cell line: 1>\u001b[1;34m()\u001b[0m\n\u001b[1;32m----> <a href='vscode-notebook-cell:/g%3A/CS/Private_Projects/constrained/gauss.ipynb#ch0000001?line=0'>1</a>\u001b[0m \u001b[39mimport\u001b[39;00m \u001b[39mconstrained\u001b[39;00m\u001b[39m.\u001b[39;00m\u001b[39mz3solver\u001b[39;00m \u001b[39mas\u001b[39;00m \u001b[39mz3solver\u001b[39;00m\n\u001b[0;32m      <a href='vscode-notebook-cell:/g%3A/CS/Private_Projects/constrained/gauss.ipynb#ch0000001?line=1'>2</a>\u001b[0m \u001b[39mimport\u001b[39;00m \u001b[39mconstrained\u001b[39;00m\u001b[39m.\u001b[39;00m\u001b[39mast\u001b[39;00m \u001b[39mas\u001b[39;00m \u001b[39mast\u001b[39;00m\n\u001b[0;32m      <a href='vscode-notebook-cell:/g%3A/CS/Private_Projects/constrained/gauss.ipynb#ch0000001?line=2'>3</a>\u001b[0m \u001b[39mimport\u001b[39;00m \u001b[39mimportlib\u001b[39;00m\n",
      "File \u001b[1;32mg:\\CS\\Private_Projects\\constrained\\constrained\\z3solver.py:3\u001b[0m, in \u001b[0;36m<module>\u001b[1;34m\u001b[0m\n\u001b[0;32m      <a href='file:///g%3A/CS/Private_Projects/constrained/constrained/z3solver.py?line=0'>1</a>\u001b[0m \u001b[39mfrom\u001b[39;00m \u001b[39mnumbers\u001b[39;00m \u001b[39mimport\u001b[39;00m Real\n\u001b[0;32m      <a href='file:///g%3A/CS/Private_Projects/constrained/constrained/z3solver.py?line=1'>2</a>\u001b[0m \u001b[39mfrom\u001b[39;00m \u001b[39mtyping\u001b[39;00m \u001b[39mimport\u001b[39;00m Union\n\u001b[1;32m----> <a href='file:///g%3A/CS/Private_Projects/constrained/constrained/z3solver.py?line=2'>3</a>\u001b[0m \u001b[39mfrom\u001b[39;00m \u001b[39m.\u001b[39;00m\u001b[39mast\u001b[39;00m \u001b[39mimport\u001b[39;00m Value, Variable, Negation, Sum, Difference, Product, Quotient, Constraint, And, Or, Equal, Unequal, LessThan, LessThanEqual, GreaterThan, GreaterThanEqual\n\u001b[0;32m      <a href='file:///g%3A/CS/Private_Projects/constrained/constrained/z3solver.py?line=3'>4</a>\u001b[0m \u001b[39mimport\u001b[39;00m \u001b[39mz3\u001b[39;00m\n\u001b[0;32m      <a href='file:///g%3A/CS/Private_Projects/constrained/constrained/z3solver.py?line=5'>6</a>\u001b[0m \u001b[39mdef\u001b[39;00m \u001b[39mto_z3\u001b[39m(value: Union[Constraint, Value, Real]):\n",
      "\u001b[1;31mImportError\u001b[0m: cannot import name 'Variable' from 'constrained.ast' (g:\\CS\\Private_Projects\\constrained\\constrained\\ast.py)"
     ]
    }
   ],
   "source": [
    "import constrained.z3solver as z3solver\n",
    "import constrained.ast as ast\n",
    "import importlib\n",
    "importlib.reload(z3solver)\n",
    "importlib.reload(ast)\n",
    "from functools import wraps\n",
    "\n",
    "def element(func):\n",
    "    @wraps(func)\n",
    "    def element_wrapper(*args, **kwargs):\n",
    "        original_defaults = func.__defaults__\n",
    "        if func.__defaults__ is not None:\n",
    "            defaults = []\n",
    "            for default in func.__defaults__:\n",
    "                if isinstance(default, ast.Placeholder):\n",
    "                    defaults.append(ast.Variable())\n",
    "                else:\n",
    "                    defaults.append(default)\n",
    "            func.__defaults__ = tuple(defaults)\n",
    "        #args = [arg + 1 if isinstance(arg, Real) else arg for arg in args]\n",
    "        #kwargs = dict([(name, val + 1) if isinstance(val, Real) else (name, val) for (name, val) in kwargs.items()])\n",
    "        return_value = func(*args, **kwargs)\n",
    "        func.__defaults__ = original_defaults\n",
    "        return return_value\n",
    "    return element_wrapper\n",
    "\n",
    "@element\n",
    "def foo(a=ast.Var, **kwargs):\n",
    "    print(a)\n",
    "    x = kwargs.get(\"x\", ast.Var).var()\n",
    "    print(x == 1)\n",
    "    print(x == 2)\n",
    "\n",
    "foo(ast.Variable())"
   ]
  },
  {
   "cell_type": "code",
   "execution_count": 13,
   "metadata": {},
   "outputs": [
    {
     "name": "stdout",
     "output_type": "stream",
     "text": [
      "Solved 16 constraints in 0.015s\n"
     ]
    },
    {
     "data": {
      "image/svg+xml": "<?xml version=\"1.0\" encoding=\"UTF-8\"?>\n<svg xmlns=\"http://www.w3.org/2000/svg\" xmlns:xlink=\"http://www.w3.org/1999/xlink\"\n     width=\"100\" height=\"100\" viewBox=\"0 -100 100 100\">\n<defs>\n</defs>\n<rect x=\"0.0\" y=\"-100.0\" width=\"100\" height=\"100\" stroke=\"(0, 0, 0)\" fill=\"lightgrey\" />\n<rect x=\"12.5\" y=\"-87.5\" width=\"75\" height=\"75\" stroke=\"red\" fill=\"lightgrey\" />\n<circle cx=\"50.0\" cy=\"-50.0\" r=\"37.5\" stroke=\"blue\" fill=\"lightgrey\" />\n</svg>",
      "text/plain": [
       "<drawSvg.drawing.Drawing at 0x1723e685130>"
      ]
     },
     "execution_count": 13,
     "metadata": {},
     "output_type": "execute_result"
    }
   ],
   "source": [
    "from constrained.constraints import aligned_vertically, aligned_horizontally\n",
    "from constrained.primitive import Rect, Circle, Group\n",
    "from constrained.core import Canvas, Style\n",
    "from constrained import solve\n",
    "\n",
    "rect = Rect(width=75, height=75, style=Style(outline=\"red\", fill=\"lightgrey\"))\n",
    "circle = Circle(style=Style(outline=\"blue\", fill=\"lightgrey\"))\n",
    "bg = Rect(top_left=(0, 0), width=100, height=100, style=Style(fill=\"lightgrey\"))\n",
    "group = Group([bg, rect, circle], [\n",
    "    aligned_vertically([rect, circle]),\n",
    "    aligned_horizontally([rect, circle]),\n",
    "    rect.bounds.width == 2 * circle.radius,\n",
    "    bg.bounds.center == rect.bounds.center\n",
    "])\n",
    "canvas = Canvas(100, 100, group)\n",
    "solve(canvas).svg"
   ]
  }
 ],
 "metadata": {
  "interpreter": {
   "hash": "ab287b5f3c758777360240f9c3cbcf4856332851d90533ff3d42550366b1b770"
  },
  "kernelspec": {
   "display_name": "Python 3.9.7 ('constrained')",
   "language": "python",
   "name": "python3"
  },
  "language_info": {
   "codemirror_mode": {
    "name": "ipython",
    "version": 3
   },
   "file_extension": ".py",
   "mimetype": "text/x-python",
   "name": "python",
   "nbconvert_exporter": "python",
   "pygments_lexer": "ipython3",
   "version": "3.9.12"
  },
  "orig_nbformat": 4
 },
 "nbformat": 4,
 "nbformat_minor": 2
}
