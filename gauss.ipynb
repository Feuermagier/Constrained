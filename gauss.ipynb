{
 "cells": [
  {
   "cell_type": "code",
   "execution_count": 5,
   "metadata": {},
   "outputs": [],
   "source": [
    "%load_ext autoreload\n",
    "%autoreload 2\n",
    "import constrained as cd\n",
    "from constrained.constraints import inset, aligned_vertically, distributed_vertically, aligned_horizontally, distributed_horizontally"
   ]
  },
  {
   "cell_type": "code",
   "execution_count": 2,
   "metadata": {},
   "outputs": [
    {
     "ename": "ImportError",
     "evalue": "cannot import name 'Variable' from 'constrained.ast' (g:\\CS\\Private_Projects\\constrained\\constrained\\ast.py)",
     "output_type": "error",
     "traceback": [
      "\u001b[1;31m---------------------------------------------------------------------------\u001b[0m",
      "\u001b[1;31mImportError\u001b[0m                               Traceback (most recent call last)",
      "\u001b[1;32mg:\\CS\\Private_Projects\\constrained\\gauss.ipynb Cell 2'\u001b[0m in \u001b[0;36m<cell line: 1>\u001b[1;34m()\u001b[0m\n\u001b[1;32m----> <a href='vscode-notebook-cell:/g%3A/CS/Private_Projects/constrained/gauss.ipynb#ch0000001?line=0'>1</a>\u001b[0m \u001b[39mimport\u001b[39;00m \u001b[39mconstrained\u001b[39;00m\u001b[39m.\u001b[39;00m\u001b[39mz3solver\u001b[39;00m \u001b[39mas\u001b[39;00m \u001b[39mz3solver\u001b[39;00m\n\u001b[0;32m      <a href='vscode-notebook-cell:/g%3A/CS/Private_Projects/constrained/gauss.ipynb#ch0000001?line=1'>2</a>\u001b[0m \u001b[39mimport\u001b[39;00m \u001b[39mconstrained\u001b[39;00m\u001b[39m.\u001b[39;00m\u001b[39mast\u001b[39;00m \u001b[39mas\u001b[39;00m \u001b[39mast\u001b[39;00m\n\u001b[0;32m      <a href='vscode-notebook-cell:/g%3A/CS/Private_Projects/constrained/gauss.ipynb#ch0000001?line=2'>3</a>\u001b[0m \u001b[39mimport\u001b[39;00m \u001b[39mimportlib\u001b[39;00m\n",
      "File \u001b[1;32mg:\\CS\\Private_Projects\\constrained\\constrained\\z3solver.py:3\u001b[0m, in \u001b[0;36m<module>\u001b[1;34m\u001b[0m\n\u001b[0;32m      <a href='file:///g%3A/CS/Private_Projects/constrained/constrained/z3solver.py?line=0'>1</a>\u001b[0m \u001b[39mfrom\u001b[39;00m \u001b[39mnumbers\u001b[39;00m \u001b[39mimport\u001b[39;00m Real\n\u001b[0;32m      <a href='file:///g%3A/CS/Private_Projects/constrained/constrained/z3solver.py?line=1'>2</a>\u001b[0m \u001b[39mfrom\u001b[39;00m \u001b[39mtyping\u001b[39;00m \u001b[39mimport\u001b[39;00m Union\n\u001b[1;32m----> <a href='file:///g%3A/CS/Private_Projects/constrained/constrained/z3solver.py?line=2'>3</a>\u001b[0m \u001b[39mfrom\u001b[39;00m \u001b[39m.\u001b[39;00m\u001b[39mast\u001b[39;00m \u001b[39mimport\u001b[39;00m Value, Variable, Negation, Sum, Difference, Product, Quotient, Constraint, And, Or, Equal, Unequal, LessThan, LessThanEqual, GreaterThan, GreaterThanEqual\n\u001b[0;32m      <a href='file:///g%3A/CS/Private_Projects/constrained/constrained/z3solver.py?line=3'>4</a>\u001b[0m \u001b[39mimport\u001b[39;00m \u001b[39mz3\u001b[39;00m\n\u001b[0;32m      <a href='file:///g%3A/CS/Private_Projects/constrained/constrained/z3solver.py?line=5'>6</a>\u001b[0m \u001b[39mdef\u001b[39;00m \u001b[39mto_z3\u001b[39m(value: Union[Constraint, Value, Real]):\n",
      "\u001b[1;31mImportError\u001b[0m: cannot import name 'Variable' from 'constrained.ast' (g:\\CS\\Private_Projects\\constrained\\constrained\\ast.py)"
     ]
    }
   ],
   "source": [
    "import constrained.z3solver as z3solver\n",
    "import constrained.ast as ast\n",
    "import importlib\n",
    "importlib.reload(z3solver)\n",
    "importlib.reload(ast)\n",
    "from functools import wraps\n",
    "\n",
    "def element(func):\n",
    "    @wraps(func)\n",
    "    def element_wrapper(*args, **kwargs):\n",
    "        original_defaults = func.__defaults__\n",
    "        if func.__defaults__ is not None:\n",
    "            defaults = []\n",
    "            for default in func.__defaults__:\n",
    "                if isinstance(default, ast.Placeholder):\n",
    "                    defaults.append(ast.Variable())\n",
    "                else:\n",
    "                    defaults.append(default)\n",
    "            func.__defaults__ = tuple(defaults)\n",
    "        #args = [arg + 1 if isinstance(arg, Real) else arg for arg in args]\n",
    "        #kwargs = dict([(name, val + 1) if isinstance(val, Real) else (name, val) for (name, val) in kwargs.items()])\n",
    "        return_value = func(*args, **kwargs)\n",
    "        func.__defaults__ = original_defaults\n",
    "        return return_value\n",
    "    return element_wrapper\n",
    "\n",
    "@element\n",
    "def foo(a=ast.Var, **kwargs):\n",
    "    print(a)\n",
    "    x = kwargs.get(\"x\", ast.Var).var()\n",
    "    print(x == 1)\n",
    "    print(x == 2)\n",
    "\n",
    "foo(ast.Variable())"
   ]
  },
  {
   "cell_type": "code",
   "execution_count": 17,
   "metadata": {},
   "outputs": [
    {
     "name": "stdout",
     "output_type": "stream",
     "text": [
      "[$166 + 5/2 == $171, $168 - $170 + (2*$170)/2 == $171, $167 + 5/2 == $172, $169 - $170 + (2*$170)/2 == $172, 5 == 2*$170, True, True, 0 < $170, [$173 <= $166, $173 <= $168 - $170, Or($173 == $166, $173 == $168 - $170)], [$174 <= $167, $174 <= $169 - $170, Or($174 == $167, $174 == $169 - $170)], [$173 + $175 >= $166 + 5, $173 + $175 >= $168 - $170 + 2*$170, Or($173 + $175 == $166 + 5,\n",
      "   $173 + $175 == $168 - $170 + 2*$170)], [$174 + $176 >= $167 + 5, $174 + $176 >= $169 - $170 + 2*$170, Or($174 + $176 == $167 + 5,\n",
      "   $174 + $176 == $169 - $170 + 2*$170)]]\n"
     ]
    }
   ],
   "source": [
    "from constrained.constraints import aligned_vertically, aligned_horizontally\n",
    "from constrained.primitive import Rect, Circle, Group\n",
    "from constrained.z3solver import to_z3\n",
    "\n",
    "rect = Rect(width=5, height=5)\n",
    "circle = Circle()\n",
    "group = Group([rect, circle], [\n",
    "    aligned_vertically([rect, circle]),\n",
    "    aligned_horizontally([rect, circle]),\n",
    "    rect.bounds.width == 2 * circle.radius\n",
    "])\n",
    "print([to_z3(c) for c in group.constraints])"
   ]
  }
 ],
 "metadata": {
  "interpreter": {
   "hash": "ab287b5f3c758777360240f9c3cbcf4856332851d90533ff3d42550366b1b770"
  },
  "kernelspec": {
   "display_name": "Python 3.9.7 ('constrained')",
   "language": "python",
   "name": "python3"
  },
  "language_info": {
   "codemirror_mode": {
    "name": "ipython",
    "version": 3
   },
   "file_extension": ".py",
   "mimetype": "text/x-python",
   "name": "python",
   "nbconvert_exporter": "python",
   "pygments_lexer": "ipython3",
   "version": "3.9.7"
  },
  "orig_nbformat": 4
 },
 "nbformat": 4,
 "nbformat_minor": 2
}
