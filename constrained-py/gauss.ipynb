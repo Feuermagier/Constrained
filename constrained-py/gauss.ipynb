{
 "cells": [
  {
   "cell_type": "code",
   "execution_count": 9,
   "metadata": {},
   "outputs": [],
   "source": [
    "import constrained as cd\n",
    "from constrained.constraints import inset, aligned_vertically, distributed_vertically, aligned_horizontally, distributed_horizontally"
   ]
  },
  {
   "cell_type": "code",
   "execution_count": 39,
   "metadata": {},
   "outputs": [
    {
     "name": "stdout",
     "output_type": "stream",
     "text": [
      "$0\n",
      "$2 == 1\n",
      "$2 == 2\n"
     ]
    }
   ],
   "source": [
    "import constrained.z3solver as z3solver\n",
    "import constrained.ast as ast\n",
    "import importlib\n",
    "importlib.reload(z3solver)\n",
    "importlib.reload(ast)\n",
    "from functools import wraps\n",
    "\n",
    "def element(func):\n",
    "    @wraps(func)\n",
    "    def element_wrapper(*args, **kwargs):\n",
    "        original_defaults = func.__defaults__\n",
    "        if func.__defaults__ is not None:\n",
    "            defaults = []\n",
    "            for default in func.__defaults__:\n",
    "                if isinstance(default, ast.Placeholder):\n",
    "                    defaults.append(ast.Variable())\n",
    "                else:\n",
    "                    defaults.append(default)\n",
    "            func.__defaults__ = tuple(defaults)\n",
    "        #args = [arg + 1 if isinstance(arg, Real) else arg for arg in args]\n",
    "        #kwargs = dict([(name, val + 1) if isinstance(val, Real) else (name, val) for (name, val) in kwargs.items()])\n",
    "        return_value = func(*args, **kwargs)\n",
    "        func.__defaults__ = original_defaults\n",
    "        return return_value\n",
    "    return element_wrapper\n",
    "\n",
    "@element\n",
    "def foo(a=ast.Var, **kwargs):\n",
    "    print(a)\n",
    "    x = kwargs.get(\"x\", ast.Var).var()\n",
    "    print(x == 1)\n",
    "    print(x == 2)\n",
    "\n",
    "foo(ast.Variable())"
   ]
  },
  {
   "cell_type": "code",
   "execution_count": 19,
   "metadata": {},
   "outputs": [
    {
     "name": "stdout",
     "output_type": "stream",
     "text": [
      "1 == $0\n"
     ]
    }
   ],
   "source": [
    "import constrained.ast as ast\n",
    "importlib.reload(ast)\n",
    "import constrained.z3solver as z3\n",
    "importlib.reload(z3)\n",
    "\n",
    "print(z3.to_z3(ast.Variable() == 1))"
   ]
  }
 ],
 "metadata": {
  "interpreter": {
   "hash": "ab287b5f3c758777360240f9c3cbcf4856332851d90533ff3d42550366b1b770"
  },
  "kernelspec": {
   "display_name": "Python 3.9.7 ('constrained')",
   "language": "python",
   "name": "python3"
  },
  "language_info": {
   "codemirror_mode": {
    "name": "ipython",
    "version": 3
   },
   "file_extension": ".py",
   "mimetype": "text/x-python",
   "name": "python",
   "nbconvert_exporter": "python",
   "pygments_lexer": "ipython3",
   "version": "3.9.7"
  },
  "orig_nbformat": 4
 },
 "nbformat": 4,
 "nbformat_minor": 2
}
