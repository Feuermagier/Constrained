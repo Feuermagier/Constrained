{
 "cells": [
  {
   "cell_type": "code",
   "execution_count": 1,
   "metadata": {},
   "outputs": [
    {
     "data": {
      "text/plain": [
       "<module 'constrained' from 'c:\\\\Private_Projects\\\\constrained\\\\constrained-py\\\\constrained\\\\__init__.py'>"
      ]
     },
     "execution_count": 1,
     "metadata": {},
     "output_type": "execute_result"
    }
   ],
   "source": [
    "import constrained as cd\n",
    "from constrained.constraints import inset, vertically_stacked\n",
    "\n",
    "import importlib\n",
    "importlib.reload(cd)"
   ]
  },
  {
   "cell_type": "code",
   "execution_count": 18,
   "metadata": {},
   "outputs": [],
   "source": [
    "def titled_box(width: float, height, title: str, subtitle: str = None, box_style=None, title_style = None):\n",
    "    box = cd.Rect(style=box_style)\n",
    "    title = cd.Text(title, style=title_style)\n",
    "    if subtitle is not None:\n",
    "        subtitle = cd.Text(subtitle, style=title_style)\n",
    "        text = cd.Group([title, subtitle], [vertically_stacked([title, subtitle], dist=5, align=\"center\")])\n",
    "    else:\n",
    "        text = title\n",
    "    return cd.Group([box, text], [\n",
    "        box.bounds.center == text.bounds.center,\n",
    "        box.bounds.width == width,\n",
    "        box.bounds.height == height\n",
    "    ])"
   ]
  },
  {
   "cell_type": "code",
   "execution_count": 19,
   "metadata": {},
   "outputs": [],
   "source": [
    "cpu = titled_box(200, 200, \"CPU\", \"(PicoRV32)\", cd.Style(fill=(255, 255, 200)), cd.Style(fill = (0, 0, 0)))\n",
    "rom = titled_box(100, 75, \"ROM\", \"(1 KB)\", cd.Style(fill=(255, 150, 100)), cd.Style(fill=(0, 0, 0)))\n",
    "ram = titled_box(100, 75, \"RAM\", \"(128 KB)\", cd.Style(fill=(255, 150, 150)), cd.Style(fill=(0, 0, 0)))\n",
    "\n",
    "core = cd.Group([cpu, rom, ram], [\n",
    "    cpu.bounds.top == rom.bounds.top,\n",
    "    cpu.bounds.bottom == ram.bounds.bottom,\n",
    "    rom.bounds.left == ram.bounds.left,\n",
    "    rom.bounds.left > cpu.bounds.right\n",
    "])"
   ]
  },
  {
   "cell_type": "code",
   "execution_count": 20,
   "metadata": {},
   "outputs": [
    {
     "name": "stdout",
     "output_type": "stream",
     "text": [
      "Solved 129 constraints in 0.016s\n"
     ]
    },
    {
     "data": {
      "image/png": "[encoded data removed]",
      "text/plain": [
       "<PIL.Image.Image image mode=RGBA size=500x500 at 0x2B12BAB96A0>"
      ]
     },
     "execution_count": 20,
     "metadata": {},
     "output_type": "execute_result"
    }
   ],
   "source": [
    "width = 500\n",
    "height = 500\n",
    "\n",
    "bg = cd.Rect(top_left = cd.point((0, 0)), width=width, height=height, style=cd.Style(fill=(255, 255, 255), outline=None))\n",
    "\n",
    "\n",
    "\n",
    "root = cd.Group([core], [\n",
    "    core.bounds.center == bg.bounds.center,\n",
    "])\n",
    "\n",
    "canvas = cd.Canvas(width, height, root)\n",
    "canvas.show()"
   ]
  }
 ],
 "metadata": {
  "interpreter": {
   "hash": "372cb16dc81e24f2b913bebf79a094724602a145c0ce2697d3fd2ed52fb663ce"
  },
  "kernelspec": {
   "display_name": "Python 3.8.5 ('base')",
   "language": "python",
   "name": "python3"
  },
  "language_info": {
   "codemirror_mode": {
    "name": "ipython",
    "version": 3
   },
   "file_extension": ".py",
   "mimetype": "text/x-python",
   "name": "python",
   "nbconvert_exporter": "python",
   "pygments_lexer": "ipython3",
   "version": "3.9.7"
  },
  "orig_nbformat": 4
 },
 "nbformat": 4,
 "nbformat_minor": 2
}
