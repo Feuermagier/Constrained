{
 "cells": [
  {
   "cell_type": "code",
   "execution_count": 1,
   "metadata": {},
   "outputs": [],
   "source": [
    "import constrained as cd\n",
    "from constrained.constraints import inset, aligned_vertically, distributed_vertically, aligned_horizontally, distributed_horizontally"
   ]
  },
  {
   "cell_type": "code",
   "execution_count": 2,
   "metadata": {},
   "outputs": [],
   "source": [
    "@cd.element\n",
    "def exception_box(title: str, examples: list[str], checked: bool, title_spacing=cd.VarPlaceholder(), example_spacing=cd.VarPlaceholder(), box_insets=cd.VarPlaceholder()):\n",
    "    box = cd.Rect(style=cd.Style(fill=None, outline=\"black\"))\n",
    "    title = cd.Text(title)\n",
    "    if checked:\n",
    "        subtitle = cd.Text(\"Checked\")\n",
    "    else:\n",
    "        subtitle = cd.Text(\"Unchecked\")\n",
    "    text_content = cd.Group([title, subtitle], [distributed_vertically([title, subtitle], spacing=title_spacing), aligned_vertically([title, subtitle])])\n",
    "    examples = [cd.Text(e) for e in examples]\n",
    "\n",
    "    return cd.Group([box, text_content] + examples, [\n",
    "        inset(text_content, box, 5, 5),\n",
    "        distributed_vertically([box] + examples, spacing=example_spacing),\n",
    "        aligned_vertically([box] + examples, align=\"left\")\n",
    "    ])"
   ]
  },
  {
   "cell_type": "code",
   "execution_count": 5,
   "metadata": {},
   "outputs": [
    {
     "name": "stdout",
     "output_type": "stream",
     "text": [
      "Solved 190 constraints in 0.028s\n"
     ]
    },
    {
     "data": {
      "image/svg+xml": "<svg baseProfile=\"full\" height=\"400\" version=\"1.1\" width=\"500\" xmlns=\"http://www.w3.org/2000/svg\" xmlns:ev=\"http://www.w3.org/2001/xml-events\" xmlns:xlink=\"http://www.w3.org/1999/xlink\"><defs /><rect fill=\"white\" fill-opacity=\"1\" height=\"400\" stroke=\"#ffffff\" stroke-opacity=\"0\" width=\"500\" x=\"0.0\" y=\"0.0\" /><rect fill=\"#ffffff\" fill-opacity=\"0\" height=\"38.3310546875\" stroke=\"black\" stroke-opacity=\"1\" width=\"135.357421875\" x=\"116.94287109375\" y=\"50.2568359375\" /><text dominant-baseline=\"hanging\" font-family=\"sans-serif\" font-size=\"14\" x=\"121.94287109375\" y=\"55.2568359375\">java.lang.Throwable</text><text dominant-baseline=\"hanging\" font-family=\"sans-serif\" font-size=\"14\" x=\"157.8486328125\" y=\"73.224609375\">Checked</text><rect fill=\"#ffffff\" fill-opacity=\"0\" height=\"38.3310546875\" stroke=\"black\" stroke-opacity=\"1\" width=\"135.357421875\" x=\"116.94287109375\" y=\"50.2568359375\" /><text dominant-baseline=\"hanging\" font-family=\"sans-serif\" font-size=\"14\" x=\"121.94287109375\" y=\"55.2568359375\">java.lang.Throwable</text><text dominant-baseline=\"hanging\" font-family=\"sans-serif\" font-size=\"14\" x=\"157.8486328125\" y=\"73.224609375\">Checked</text><rect fill=\"#ffffff\" fill-opacity=\"0\" height=\"38.16015625\" stroke=\"black\" stroke-opacity=\"1\" width=\"101.875\" x=\"8.615234375\" y=\"138.587890625\" /><text dominant-baseline=\"hanging\" font-family=\"sans-serif\" font-size=\"14\" x=\"13.615234375\" y=\"143.587890625\">java.lang.Error</text><text dominant-baseline=\"hanging\" font-family=\"sans-serif\" font-size=\"14\" x=\"25.58837890625\" y=\"161.5556640625\">Unchecked</text><text dominant-baseline=\"hanging\" font-family=\"sans-serif\" font-size=\"14\" x=\"8.615234375\" y=\"181.748046875\">AssertionError</text><text dominant-baseline=\"hanging\" font-family=\"sans-serif\" font-size=\"14\" x=\"8.615234375\" y=\"196.93359375\">OutOfMemoryError</text><text dominant-baseline=\"hanging\" font-family=\"sans-serif\" font-size=\"14\" x=\"8.615234375\" y=\"215.0791015625\">StackOverflowError</text><rect fill=\"#ffffff\" fill-opacity=\"0\" height=\"38.3310546875\" stroke=\"black\" stroke-opacity=\"1\" width=\"131.091796875\" x=\"229.5361328125\" y=\"138.587890625\" /><text dominant-baseline=\"hanging\" font-family=\"sans-serif\" font-size=\"14\" x=\"234.5361328125\" y=\"143.587890625\">java.lang.Exception</text><text dominant-baseline=\"hanging\" font-family=\"sans-serif\" font-size=\"14\" x=\"268.30908203125\" y=\"161.5556640625\">Checked</text><rect fill=\"#ffffff\" fill-opacity=\"0\" height=\"37.99609375\" stroke=\"black\" stroke-opacity=\"1\" width=\"121.548828125\" x=\"98.779296875\" y=\"275.44921875\" /><text dominant-baseline=\"hanging\" font-family=\"sans-serif\" font-size=\"14\" x=\"103.779296875\" y=\"280.44921875\">RuntimeException</text><text dominant-baseline=\"hanging\" font-family=\"sans-serif\" font-size=\"14\" x=\"125.58935546875\" y=\"298.2529296875\">Unchecked</text><text dominant-baseline=\"hanging\" font-family=\"sans-serif\" font-size=\"14\" x=\"98.779296875\" y=\"318.4453125\">IndexOutOfBoundsException</text><text dominant-baseline=\"hanging\" font-family=\"sans-serif\" font-size=\"14\" x=\"98.779296875\" y=\"336.4267578125\">NullPointerException</text><rect fill=\"#ffffff\" fill-opacity=\"0\" height=\"38.3447265625\" stroke=\"black\" stroke-opacity=\"1\" width=\"108.7451171875\" x=\"377.0673828125\" y=\"275.44921875\" /><text dominant-baseline=\"hanging\" font-family=\"sans-serif\" font-size=\"14\" x=\"382.0673828125\" y=\"280.44921875\">Other Exception</text><text dominant-baseline=\"hanging\" font-family=\"sans-serif\" font-size=\"14\" x=\"404.6669921875\" y=\"298.4306640625\">Checked</text><text dominant-baseline=\"hanging\" font-family=\"sans-serif\" font-size=\"14\" x=\"377.0673828125\" y=\"318.7939453125\">IOException</text><text dominant-baseline=\"hanging\" font-family=\"sans-serif\" font-size=\"14\" x=\"377.0673828125\" y=\"336.775390625\">Eigene Exceptions</text><line stroke=\"black\" x1=\"184.62158203125\" x2=\"69.07568359375\" y1=\"88.587890625\" y2=\"138.587890625\" /><line stroke=\"black\" x1=\"184.62158203125\" x2=\"295.08203125\" y1=\"88.587890625\" y2=\"138.587890625\" /><line stroke=\"black\" x1=\"295.08203125\" x2=\"187.92333984375\" y1=\"176.9189453125\" y2=\"275.44921875\" /><line stroke=\"black\" x1=\"295.08203125\" x2=\"434.22607421875\" y1=\"176.9189453125\" y2=\"275.44921875\" /></svg>",
      "text/plain": [
       "<constrained.svg.SVGRenderer at 0x1eac8639190>"
      ]
     },
     "execution_count": 5,
     "metadata": {},
     "output_type": "execute_result"
    }
   ],
   "source": [
    "width = 500\n",
    "height = 400\n",
    "between_layers = 50\n",
    "mid_spacing = 100\n",
    "bottom_spacing = 100\n",
    "title_spacing = 5\n",
    "example_spacing = 5\n",
    "box_insets = 5\n",
    "\n",
    "\n",
    "bg = cd.Rect(top_left = cd.Point(0, 0), width=width, height=height, style=cd.Style(fill=\"white\", outline=None))\n",
    "throwable = exception_box(\"java.lang.Throwable\", [], True, title_spacing, example_spacing, box_insets)\n",
    "error = exception_box(\"java.lang.Error\", [\"AssertionError\", \"OutOfMemoryError\", \"StackOverflowError\"], False, title_spacing, example_spacing, box_insets)\n",
    "exception = exception_box(\"java.lang.Exception\", [], True, title_spacing, example_spacing, box_insets)\n",
    "runtime_ex = exception_box(\"RuntimeException\", [\"IndexOutOfBoundsException\", \"NullPointerException\"], False, title_spacing, example_spacing, box_insets)\n",
    "custom_ex = exception_box(\"Other Exception\", [\"IOException\", \"Eigene Exceptions\"], True, title_spacing, example_spacing, box_insets)\n",
    "\n",
    "mid_layer = cd.Group([error, exception], [distributed_horizontally([error, exception], mid_spacing), aligned_horizontally([error, exception], align=\"top\")])\n",
    "bottom_layer = cd.Group([runtime_ex, custom_ex], [distributed_horizontally([runtime_ex, custom_ex], bottom_spacing), aligned_horizontally([runtime_ex, custom_ex], align=\"top\")])\n",
    "\n",
    "throwable_error = cd.Arrow(start=throwable.bounds.bottom_edge.at(0.5), end=error.bounds.top_edge.at(0.5), style=cd.Style(fill=(0, 0, 0)))\n",
    "throwable_ex = cd.Arrow(start=throwable.bounds.bottom_edge.at(0.5), end=exception.bounds.top_edge.at(0.5), style=cd.Style(fill=(0, 0, 0)))\n",
    "throwable_ex = cd.Arrow(start=throwable.bounds.bottom_edge.at(0.5), end=exception.bounds.top_edge.at(0.5), style=cd.Style(fill=(0, 0, 0)))\n",
    "ex_runtime = cd.Arrow(start=exception.bounds.bottom_edge.at(0.5), end=runtime_ex.bounds.top_edge.at(0.5), style=cd.Style(fill=(0, 0, 0)))\n",
    "ex_custom = cd.Arrow(start=exception.bounds.bottom_edge.at(0.5), end=custom_ex.bounds.top_edge.at(0.5), style=cd.Style(fill=(0, 0, 0)))\n",
    "\n",
    "content = cd.Group([throwable, mid_layer, bottom_layer, throwable_error, throwable_ex, ex_runtime, ex_custom], [\n",
    "    distributed_vertically([throwable, mid_layer, bottom_layer], spacing=between_layers),\n",
    "    throwable.bounds.center.x == mid_layer.bounds.center.x,\n",
    "    exception.bounds.center.x == bottom_layer.bounds.center.x\n",
    "])\n",
    "\n",
    "root = cd.Group([bg, throwable, content], [\n",
    "    bg.bounds.center == content.bounds.center,\n",
    "])\n",
    "canvas = cd.Canvas(width, height, root)\n",
    "cd.solve(canvas)"
   ]
  }
 ],
 "metadata": {
  "interpreter": {
   "hash": "bd0fa899314adaa88b49d517878a980d0acc102a194542a6632d9177f9433cbe"
  },
  "kernelspec": {
   "display_name": "Python 3.9.7 ('constrained')",
   "language": "python",
   "name": "python3"
  },
  "language_info": {
   "codemirror_mode": {
    "name": "ipython",
    "version": 3
   },
   "file_extension": ".py",
   "mimetype": "text/x-python",
   "name": "python",
   "nbconvert_exporter": "python",
   "pygments_lexer": "ipython3",
   "version": "3.9.7"
  },
  "orig_nbformat": 4
 },
 "nbformat": 4,
 "nbformat_minor": 2
}
