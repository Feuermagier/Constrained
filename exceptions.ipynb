{
 "cells": [
  {
   "cell_type": "code",
   "execution_count": 1,
   "metadata": {},
   "outputs": [],
   "source": [
    "%load_ext autoreload\n",
    "%autoreload 2\n",
    "import constrained as cd\n",
    "from constrained.constraints import inset, aligned_vertically, distributed_vertically, aligned_horizontally, distributed_horizontally"
   ]
  },
  {
   "cell_type": "code",
   "execution_count": 2,
   "metadata": {},
   "outputs": [],
   "source": [
    "@cd.element\n",
    "def exception_box(title, examples, checked, title_spacing=cd.VarPlaceholder(), example_spacing=cd.VarPlaceholder(), box_insets=cd.VarPlaceholder()):\n",
    "    box = cd.Rect(style=cd.Style(fill=None, outline=\"black\"))\n",
    "    title = cd.Text(title)\n",
    "    if checked:\n",
    "        subtitle = cd.Text(\"Checked\")\n",
    "    else:\n",
    "        subtitle = cd.Text(\"Unchecked\")\n",
    "    text_content = cd.Group([title, subtitle], [distributed_vertically([title, subtitle], spacing=title_spacing), aligned_vertically([title, subtitle])])\n",
    "    examples = [cd.Text(e) for e in examples]\n",
    "\n",
    "    return cd.Group([box, text_content] + examples, [\n",
    "        inset(text_content, box, 5, 5),\n",
    "        distributed_vertically([box] + examples, spacing=example_spacing),\n",
    "        aligned_vertically([box] + examples, align=\"left\")\n",
    "    ])"
   ]
  },
  {
   "cell_type": "code",
   "execution_count": 3,
   "metadata": {},
   "outputs": [
    {
     "data": {
      "image/svg+xml": "<svg baseProfile=\"full\" height=\"400\" version=\"1.1\" width=\"500\" xmlns=\"http://www.w3.org/2000/svg\" xmlns:ev=\"http://www.w3.org/2001/xml-events\" xmlns:xlink=\"http://www.w3.org/1999/xlink\"><defs /><rect fill=\"white\" fill-opacity=\"1\" height=\"400\" stroke=\"#ffffff\" stroke-opacity=\"0\" width=\"500\" x=\"0\" y=\"0\" /><rect fill=\"#ffffff\" fill-opacity=\"0\" height=\"37.39327732396127\" stroke=\"black\" stroke-opacity=\"1\" width=\"135.3788963954893\" x=\"114.90774040259002\" y=\"47.355008819836975\" /><text dominant-baseline=\"hanging\" font-family=\"sans-serif\" font-size=\"14\" x=\"119.90801207741164\" y=\"52.06794102845641\">java.lang.Throwable</text><text dominant-baseline=\"hanging\" font-family=\"sans-serif\" font-size=\"14\" x=\"155.8094727023194\" y=\"69.76619244404382\">Checked</text><rect fill=\"#ffffff\" fill-opacity=\"0\" height=\"37.39327732396127\" stroke=\"black\" stroke-opacity=\"1\" width=\"135.3788963954893\" x=\"114.90774040259002\" y=\"47.355008819836975\" /><text dominant-baseline=\"hanging\" font-family=\"sans-serif\" font-size=\"14\" x=\"119.90801207741164\" y=\"52.06794102845641\">java.lang.Throwable</text><text dominant-baseline=\"hanging\" font-family=\"sans-serif\" font-size=\"14\" x=\"155.8094727023194\" y=\"69.76619244404382\">Checked</text><rect fill=\"#ffffff\" fill-opacity=\"0\" height=\"37.84436656264503\" stroke=\"black\" stroke-opacity=\"1\" width=\"101.84729742577461\" x=\"6.799627359952717\" y=\"134.0525193665772\" /><text dominant-baseline=\"hanging\" font-family=\"sans-serif\" font-size=\"14\" x=\"11.774070450429893\" y=\"138.90232455993024\">java.lang.Error</text><text dominant-baseline=\"hanging\" font-family=\"sans-serif\" font-size=\"14\" x=\"23.734787992372244\" y=\"156.7781287423968\">Unchecked</text><text dominant-baseline=\"hanging\" font-family=\"sans-serif\" font-size=\"14\" x=\"6.800808824831698\" y=\"176.87492536745296\">AssertionError</text><text dominant-baseline=\"hanging\" font-family=\"sans-serif\" font-size=\"14\" x=\"6.795681597597807\" y=\"192.06081588488718\">OutOfMemoryError</text><text dominant-baseline=\"hanging\" font-family=\"sans-serif\" font-size=\"14\" x=\"6.791416449599732\" y=\"210.25101381765367\">StackOverflowError</text><rect fill=\"#ffffff\" fill-opacity=\"0\" height=\"38.183520466039546\" stroke=\"black\" stroke-opacity=\"1\" width=\"130.88940650813097\" x=\"227.42930743734127\" y=\"134.08781621782887\" /><text dominant-baseline=\"hanging\" font-family=\"sans-serif\" font-size=\"14\" x=\"232.32807869993897\" y=\"138.98942889127284\">java.lang.Exception</text><text dominant-baseline=\"hanging\" font-family=\"sans-serif\" font-size=\"14\" x=\"266.06414717044635\" y=\"156.91473550084189\">Checked</text><rect fill=\"#ffffff\" fill-opacity=\"0\" height=\"40.6866851551256\" stroke=\"black\" stroke-opacity=\"1\" width=\"121.47407568364348\" x=\"93.47666771068336\" y=\"271.76376244891253\" /><text dominant-baseline=\"hanging\" font-family=\"sans-serif\" font-size=\"14\" x=\"98.41274018806564\" y=\"277.48503054543\">RuntimeException</text><text dominant-baseline=\"hanging\" font-family=\"sans-serif\" font-size=\"14\" x=\"120.18837568595809\" y=\"296.0659308687425\">Unchecked</text><text dominant-baseline=\"hanging\" font-family=\"sans-serif\" font-size=\"14\" x=\"93.61531379966195\" y=\"317.8308266793808\">IndexOutOfBoundsException</text><text dominant-baseline=\"hanging\" font-family=\"sans-serif\" font-size=\"14\" x=\"93.52951099331155\" y=\"336.58504706199716\">NullPointerException</text><rect fill=\"#ffffff\" fill-opacity=\"0\" height=\"37.7809127833619\" stroke=\"black\" stroke-opacity=\"1\" width=\"108.69437991976164\" x=\"372.2513438355946\" y=\"270.76030543082356\" /><text dominant-baseline=\"hanging\" font-family=\"sans-serif\" font-size=\"14\" x=\"377.2079542313079\" y=\"275.53090157013753\">Other Exception</text><text dominant-baseline=\"hanging\" font-family=\"sans-serif\" font-size=\"14\" x=\"399.7841996329099\" y=\"293.3493331813146\">Checked</text><text dominant-baseline=\"hanging\" font-family=\"sans-serif\" font-size=\"14\" x=\"372.36966534653067\" y=\"313.4878371233567\">IOException</text><text dominant-baseline=\"hanging\" font-family=\"sans-serif\" font-size=\"14\" x=\"372.5084967864042\" y=\"331.4118167721338\">Custom Exceptions</text><line stroke=\"black\" x1=\"182.60374071863464\" x2=\"67.22824698937967\" y1=\"84.6237969192198\" y2=\"134.1449834245733\" /><line stroke=\"black\" x1=\"182.60374071863464\" x2=\"292.88956635701226\" y1=\"84.6237969192198\" y2=\"134.17258578675958\" /><line stroke=\"black\" x1=\"292.88956635701226\" x2=\"182.76722903175406\" y1=\"172.27899162778738\" y2=\"271.4443289303688\" /><line stroke=\"black\" x1=\"292.88956635701226\" x2=\"432.15625858664987\" y1=\"172.27899162778738\" y2=\"270.90484546402996\" /></svg>",
      "text/plain": [
       "<constrained.svg.SVGRenderer at 0x26c192fbf40>"
      ]
     },
     "execution_count": 3,
     "metadata": {},
     "output_type": "execute_result"
    }
   ],
   "source": [
    "width = 500\n",
    "height = 400\n",
    "between_layers = 50\n",
    "mid_spacing = 100\n",
    "bottom_spacing = 100\n",
    "title_spacing = 5\n",
    "example_spacing = 5\n",
    "box_insets = 5\n",
    "\n",
    "\n",
    "bg = cd.Rect(top_left = cd.Point(0, 0), width=width, height=height, style=cd.Style(fill=\"white\", outline=None))\n",
    "throwable = exception_box(\"java.lang.Throwable\", [], True, title_spacing, example_spacing, box_insets)\n",
    "error = exception_box(\"java.lang.Error\", [\"AssertionError\", \"OutOfMemoryError\", \"StackOverflowError\"], False, title_spacing, example_spacing, box_insets)\n",
    "exception = exception_box(\"java.lang.Exception\", [], True, title_spacing, example_spacing, box_insets)\n",
    "runtime_ex = exception_box(\"RuntimeException\", [\"IndexOutOfBoundsException\", \"NullPointerException\"], False, title_spacing, example_spacing, box_insets)\n",
    "custom_ex = exception_box(\"Other Exception\", [\"IOException\", \"Custom Exceptions\"], True, title_spacing, example_spacing, box_insets)\n",
    "\n",
    "mid_layer = cd.Group([error, exception], [distributed_horizontally([error, exception], mid_spacing), aligned_horizontally([error, exception], align=\"top\")])\n",
    "bottom_layer = cd.Group([runtime_ex, custom_ex], [distributed_horizontally([runtime_ex, custom_ex], bottom_spacing), aligned_horizontally([runtime_ex, custom_ex], align=\"top\")])\n",
    "\n",
    "throwable_error = cd.Arrow(start=throwable.bounds.bottom_edge.at(0.5), end=error.bounds.top_edge.at(0.5), style=cd.Style(fill=(0, 0, 0)))\n",
    "throwable_ex = cd.Arrow(start=throwable.bounds.bottom_edge.at(0.5), end=exception.bounds.top_edge.at(0.5), style=cd.Style(fill=(0, 0, 0)))\n",
    "throwable_ex = cd.Arrow(start=throwable.bounds.bottom_edge.at(0.5), end=exception.bounds.top_edge.at(0.5), style=cd.Style(fill=(0, 0, 0)))\n",
    "ex_runtime = cd.Arrow(start=exception.bounds.bottom_edge.at(0.5), end=runtime_ex.bounds.top_edge.at(0.5), style=cd.Style(fill=(0, 0, 0)))\n",
    "ex_custom = cd.Arrow(start=exception.bounds.bottom_edge.at(0.5), end=custom_ex.bounds.top_edge.at(0.5), style=cd.Style(fill=(0, 0, 0)))\n",
    "\n",
    "content = cd.Group([throwable, mid_layer, bottom_layer, throwable_error, throwable_ex, ex_runtime, ex_custom], [\n",
    "    distributed_vertically([throwable, mid_layer, bottom_layer], spacing=between_layers),\n",
    "    throwable.bounds.center.x == mid_layer.bounds.center.x,\n",
    "    exception.bounds.center.x == bottom_layer.bounds.center.x\n",
    "])\n",
    "\n",
    "root = cd.Group([bg, throwable, content], [\n",
    "    bg.bounds.center == content.bounds.center,\n",
    "])\n",
    "canvas = cd.Canvas(width, height, root)\n",
    "cd.solve(canvas, solver=\"gd\")"
   ]
  }
 ],
 "metadata": {
  "kernelspec": {
   "display_name": "Python 3.9.12 ('constrained')",
   "language": "python",
   "name": "python3"
  },
  "language_info": {
   "codemirror_mode": {
    "name": "ipython",
    "version": 3
   },
   "file_extension": ".py",
   "mimetype": "text/x-python",
   "name": "python",
   "nbconvert_exporter": "python",
   "pygments_lexer": "ipython3",
   "version": "3.9.12"
  },
  "orig_nbformat": 4,
  "vscode": {
   "interpreter": {
    "hash": "b01646558572192be7d0815154e0b549689800212597c0d89e11e3b7e9c96e74"
   }
  }
 },
 "nbformat": 4,
 "nbformat_minor": 2
}
