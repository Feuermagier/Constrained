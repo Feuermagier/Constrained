{
 "cells": [
  {
   "cell_type": "code",
   "execution_count": 22,
   "metadata": {},
   "outputs": [],
   "source": [
    "%load_ext autoreload\n",
    "%autoreload 2\n",
    "import constrained as cd\n",
    "import constrained.constraints as con"
   ]
  },
  {
   "cell_type": "code",
   "execution_count": 47,
   "metadata": {},
   "outputs": [],
   "source": [
    "@cd.element\n",
    "def layer(width, node_radius=cd.VarPlaceholder()):\n",
    "    nodes = [cd.primitive.Circle(radius=node_radius, style=cd.Style(fill=\"black\")) for _ in range(width)]\n",
    "    spacing = cd.Var()\n",
    "    return cd.Group(nodes, [\n",
    "        con.distributed_vertically(nodes, spacing=spacing),\n",
    "        con.aligned_vertically(nodes)\n",
    "    ])"
   ]
  },
  {
   "cell_type": "code",
   "execution_count": 106,
   "metadata": {},
   "outputs": [
    {
     "name": "stdout",
     "output_type": "stream",
     "text": [
      "Solved 119 constraints in 0.015s\n"
     ]
    },
    {
     "data": {
      "image/svg+xml": "<svg baseProfile=\"full\" height=\"300\" version=\"1.1\" width=\"600\" xmlns=\"http://www.w3.org/2000/svg\" xmlns:ev=\"http://www.w3.org/2001/xml-events\" xmlns:xlink=\"http://www.w3.org/1999/xlink\"><defs /><rect fill=\"white\" fill-opacity=\"1\" height=\"300\" stroke=\"#ffffff\" stroke-opacity=\"0\" width=\"600\" x=\"0.0\" y=\"0.0\" /><circle cx=\"25.0\" cy=\"60.0\" fill=\"black\" fill-opacity=\"1\" r=\"5\" stroke=\"black\" stroke-opacity=\"1\" /><circle cx=\"25.0\" cy=\"105.0\" fill=\"black\" fill-opacity=\"1\" r=\"5\" stroke=\"black\" stroke-opacity=\"1\" /><circle cx=\"25.0\" cy=\"150.0\" fill=\"black\" fill-opacity=\"1\" r=\"5\" stroke=\"black\" stroke-opacity=\"1\" /><circle cx=\"25.0\" cy=\"195.0\" fill=\"black\" fill-opacity=\"1\" r=\"5\" stroke=\"black\" stroke-opacity=\"1\" /><circle cx=\"25.0\" cy=\"240.0\" fill=\"black\" fill-opacity=\"1\" r=\"5\" stroke=\"black\" stroke-opacity=\"1\" /><circle cx=\"208.33333333333334\" cy=\"39.54545454545455\" fill=\"black\" fill-opacity=\"1\" r=\"5\" stroke=\"black\" stroke-opacity=\"1\" /><circle cx=\"208.33333333333334\" cy=\"64.0909090909091\" fill=\"black\" fill-opacity=\"1\" r=\"5\" stroke=\"black\" stroke-opacity=\"1\" /><circle cx=\"208.33333333333334\" cy=\"88.63636363636364\" fill=\"black\" fill-opacity=\"1\" r=\"5\" stroke=\"black\" stroke-opacity=\"1\" /><circle cx=\"208.33333333333334\" cy=\"113.18181818181819\" fill=\"black\" fill-opacity=\"1\" r=\"5\" stroke=\"black\" stroke-opacity=\"1\" /><circle cx=\"208.33333333333334\" cy=\"137.72727272727272\" fill=\"black\" fill-opacity=\"1\" r=\"5\" stroke=\"black\" stroke-opacity=\"1\" /><circle cx=\"208.33333333333334\" cy=\"162.27272727272728\" fill=\"black\" fill-opacity=\"1\" r=\"5\" stroke=\"black\" stroke-opacity=\"1\" /><circle cx=\"208.33333333333334\" cy=\"186.8181818181818\" fill=\"black\" fill-opacity=\"1\" r=\"5\" stroke=\"black\" stroke-opacity=\"1\" /><circle cx=\"208.33333333333334\" cy=\"211.36363636363637\" fill=\"black\" fill-opacity=\"1\" r=\"5\" stroke=\"black\" stroke-opacity=\"1\" /><circle cx=\"208.33333333333334\" cy=\"235.9090909090909\" fill=\"black\" fill-opacity=\"1\" r=\"5\" stroke=\"black\" stroke-opacity=\"1\" /><circle cx=\"208.33333333333334\" cy=\"260.45454545454544\" fill=\"black\" fill-opacity=\"1\" r=\"5\" stroke=\"black\" stroke-opacity=\"1\" /><circle cx=\"391.6666666666667\" cy=\"39.54545454545455\" fill=\"black\" fill-opacity=\"1\" r=\"5\" stroke=\"black\" stroke-opacity=\"1\" /><circle cx=\"391.6666666666667\" cy=\"64.0909090909091\" fill=\"black\" fill-opacity=\"1\" r=\"5\" stroke=\"black\" stroke-opacity=\"1\" /><circle cx=\"391.6666666666667\" cy=\"88.63636363636364\" fill=\"black\" fill-opacity=\"1\" r=\"5\" stroke=\"black\" stroke-opacity=\"1\" /><circle cx=\"391.6666666666667\" cy=\"113.18181818181819\" fill=\"black\" fill-opacity=\"1\" r=\"5\" stroke=\"black\" stroke-opacity=\"1\" /><circle cx=\"391.6666666666667\" cy=\"137.72727272727272\" fill=\"black\" fill-opacity=\"1\" r=\"5\" stroke=\"black\" stroke-opacity=\"1\" /><circle cx=\"391.6666666666667\" cy=\"162.27272727272728\" fill=\"black\" fill-opacity=\"1\" r=\"5\" stroke=\"black\" stroke-opacity=\"1\" /><circle cx=\"391.6666666666667\" cy=\"186.8181818181818\" fill=\"black\" fill-opacity=\"1\" r=\"5\" stroke=\"black\" stroke-opacity=\"1\" /><circle cx=\"391.6666666666667\" cy=\"211.36363636363637\" fill=\"black\" fill-opacity=\"1\" r=\"5\" stroke=\"black\" stroke-opacity=\"1\" /><circle cx=\"391.6666666666667\" cy=\"235.9090909090909\" fill=\"black\" fill-opacity=\"1\" r=\"5\" stroke=\"black\" stroke-opacity=\"1\" /><circle cx=\"391.6666666666667\" cy=\"260.45454545454544\" fill=\"black\" fill-opacity=\"1\" r=\"5\" stroke=\"black\" stroke-opacity=\"1\" /><circle cx=\"575.0\" cy=\"105.0\" fill=\"black\" fill-opacity=\"1\" r=\"5\" stroke=\"black\" stroke-opacity=\"1\" /><circle cx=\"575.0\" cy=\"195.0\" fill=\"black\" fill-opacity=\"1\" r=\"5\" stroke=\"black\" stroke-opacity=\"1\" /></svg>",
      "text/plain": [
       "<constrained.svg.SVGRenderer at 0x25df7d5d6d0>"
      ]
     },
     "execution_count": 106,
     "metadata": {},
     "output_type": "execute_result"
    }
   ],
   "source": [
    "width = 600\n",
    "height = 300\n",
    "node_radius = 5\n",
    "figure_padding = 20\n",
    "\n",
    "layers = [layer(5, node_radius), layer(10, node_radius), layer(10, node_radius), layer(2, node_radius)]\n",
    "\n",
    "content = cd.Group(layers, [\n",
    "    con.aligned_horizontally(layers),\n",
    "    con.distributed_horizontally(layers)\n",
    "])\n",
    "\n",
    "bg = cd.Rect(top_left=(0, 0), width=width, height=height, style=cd.Style(fill=\"white\", outline=None))\n",
    "canvas = cd.Canvas(width, height, cd.Group([bg, content], [con.inset(content, bg, figure_padding, figure_padding)]))\n",
    "\n",
    "cd.solve(canvas)"
   ]
  }
 ],
 "metadata": {
  "interpreter": {
   "hash": "bd0fa899314adaa88b49d517878a980d0acc102a194542a6632d9177f9433cbe"
  },
  "kernelspec": {
   "display_name": "Python 3.9.7 ('constrained')",
   "language": "python",
   "name": "python3"
  },
  "language_info": {
   "codemirror_mode": {
    "name": "ipython",
    "version": 3
   },
   "file_extension": ".py",
   "mimetype": "text/x-python",
   "name": "python",
   "nbconvert_exporter": "python",
   "pygments_lexer": "ipython3",
   "version": "3.9.7"
  },
  "orig_nbformat": 4
 },
 "nbformat": 4,
 "nbformat_minor": 2
}
