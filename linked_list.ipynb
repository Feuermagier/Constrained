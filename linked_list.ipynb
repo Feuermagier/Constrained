{
 "cells": [
  {
   "cell_type": "code",
   "execution_count": 1,
   "metadata": {},
   "outputs": [],
   "source": [
    "%load_ext autoreload\n",
    "%autoreload 2\n",
    "import constrained as cd\n",
    "import constrained.constraints as con"
   ]
  },
  {
   "cell_type": "code",
   "execution_count": null,
   "metadata": {},
   "outputs": [],
   "source": [
    "@cd.element\n",
    "def box(value, width=cd.VarPlaceholder, height=cd.VarPlaceholder, radius=cd.VarPlaceholder):\n",
    "    border = cd.Rect(width=width, height=height)\n",
    "    in_pointer = cd.Circle(radius=radius)\n",
    "    out_pointer = cd.Circle(radius=radius)\n",
    "    left_separator = cd.Arrow()\n",
    "    right_separator = cd.Arrow()\n",
    "    item = cd.Text(value)\n",
    "    return cd.Group([border, in_pointer, left_separator, item, right_separator, out_pointer], [\n",
    "        con.aligned_horizontally([border, in_pointer, left_separator, item, right_separator, out_pointer]),\n",
    "        con.distributed_horizontally([in_pointer, left_separator, item, right_separator, out_pointer]),\n",
    "        \n",
    "    ])"
   ]
  }
 ],
 "metadata": {
  "kernelspec": {
   "display_name": "Python 3.9.12 ('constrained')",
   "language": "python",
   "name": "python3"
  },
  "language_info": {
   "codemirror_mode": {
    "name": "ipython",
    "version": 3
   },
   "file_extension": ".py",
   "mimetype": "text/x-python",
   "name": "python",
   "nbconvert_exporter": "python",
   "pygments_lexer": "ipython3",
   "version": "3.9.12"
  },
  "orig_nbformat": 4,
  "vscode": {
   "interpreter": {
    "hash": "b01646558572192be7d0815154e0b549689800212597c0d89e11e3b7e9c96e74"
   }
  }
 },
 "nbformat": 4,
 "nbformat_minor": 2
}
